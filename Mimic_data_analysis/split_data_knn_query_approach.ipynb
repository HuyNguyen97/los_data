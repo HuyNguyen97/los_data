{
 "cells": [
  {
   "cell_type": "code",
   "execution_count": 48,
   "metadata": {},
   "outputs": [],
   "source": [
    "import numpy as np\n",
    "import pandas as pd\n",
    "import scipy.stats as ss\n",
    "import matplotlib.pyplot as plt\n",
    "import IPython.display as idis\n",
    "import seaborn as sns\n",
    "import copy\n",
    "import scipy.stats as stat\n",
    "import statistics\n",
    "import functools\n",
    "from pickle import dump\n",
    "from pickle import load\n",
    "%matplotlib inline\n",
    "pd.options.display.max_rows = 999\n",
    "pd.options.display.max_columns = 300\n",
    "import functools\n",
    "\n",
    "from sklearn.svm import SVR\n",
    "from sklearn.metrics import mean_absolute_error \n",
    "from sklearn.model_selection import train_test_split\n",
    "from sklearn.preprocessing import MinMaxScaler\n",
    "from sklearn.impute import SimpleImputer\n",
    "import xgboost\n",
    "np.random.seed(1)"
   ]
  },
  {
   "cell_type": "code",
   "execution_count": 49,
   "metadata": {},
   "outputs": [
    {
     "ename": "NameError",
     "evalue": "name 'start_hospital' is not defined",
     "output_type": "error",
     "traceback": [
      "\u001b[0;31m---------------------------------------------------------------------------\u001b[0m",
      "\u001b[0;31mNameError\u001b[0m                                 Traceback (most recent call last)",
      "\u001b[0;32m<ipython-input-49-b7d794cdb98d>\u001b[0m in \u001b[0;36m<module>\u001b[0;34m\u001b[0m\n\u001b[0;32m----> 1\u001b[0;31m \u001b[0mstart_hospital\u001b[0m\u001b[0;34m-\u001b[0m\u001b[0;34m-\u001b[0m\u001b[0;34m-\u001b[0m\u001b[0;34m-\u001b[0m\u001b[0;34m-\u001b[0m\u001b[0mstart_icu\u001b[0m\u001b[0;34m-\u001b[0m\u001b[0;34m-\u001b[0m\u001b[0;34m-\u001b[0m\u001b[0;34m-\u001b[0m\u001b[0mend_icu\u001b[0m\u001b[0;34m-\u001b[0m\u001b[0;34m-\u001b[0m\u001b[0;34m-\u001b[0m\u001b[0;34m-\u001b[0m\u001b[0;34m-\u001b[0m\u001b[0;34m-\u001b[0m\u001b[0mend_hospital\u001b[0m\u001b[0;34m\u001b[0m\u001b[0;34m\u001b[0m\u001b[0m\n\u001b[0m",
      "\u001b[0;31mNameError\u001b[0m: name 'start_hospital' is not defined"
     ]
    }
   ],
   "source": [
    "start_hospital-----start_icu----end_icu------end_hospital"
   ]
  },
  {
   "cell_type": "code",
   "execution_count": 62,
   "metadata": {},
   "outputs": [
    {
     "data": {
      "text/plain": [
       "[(0, 10), (10, 30), (30, 60), (60, 90)]"
      ]
     },
     "execution_count": 62,
     "metadata": {},
     "output_type": "execute_result"
    }
   ],
   "source": [
    "# lst_range = [(i,i+10) for i in [j for j in range(0,90,10)]]\n",
    "lst_range =[(0,10),(10,30),(30,60),(60,90)]\n",
    "lst_range"
   ]
  },
  {
   "cell_type": "code",
   "execution_count": 63,
   "metadata": {},
   "outputs": [],
   "source": [
    "list_sub_data = []\n",
    "list_los_data = []\n",
    "list_sub_model = []\n",
    "list_test_error = []"
   ]
  },
  {
   "cell_type": "code",
   "execution_count": 64,
   "metadata": {},
   "outputs": [],
   "source": [
    "working_patient = pd.read_csv('first_vital_patient_data.csv')  \n",
    "total_los_patient = pd.read_csv('total_los_patients.csv')\n",
    "# print(total_los_patient)\n",
    "drop_long_los = total_los_patient.index[total_los_patient['total_los'] > 90].tolist()\n",
    "working_patient_data = working_patient.drop(drop_long_los)\n",
    "total_los_patient_data = total_los_patient.drop(drop_long_los)\n",
    "working_patient_data = working_patient_data.reset_index(drop=True)\n",
    "total_los_patient_data = total_los_patient_data.reset_index(drop=True)\n",
    "# print(len(total_los_patient_data))\n",
    "total_los_np = np.array(total_los_patient_data)\n",
    "# print(len(total_los))\n",
    "\n",
    "drop_list = []\n",
    "for j in range(0,working_patient_data.shape[1]):\n",
    "    if working_patient_data.iloc[:,j].isnull().sum() / (working_patient_data.shape[0] - len(drop_long_los)) > 0.99:\n",
    "        drop_list.append(working_patient_data.columns[j])\n",
    "working_patient_data.drop(drop_list,axis=1,inplace=True)\n",
    "\n",
    "\n",
    "X_train, X_test, y_train, y_test = train_test_split(working_patient_data, total_los_patient_data, test_size=0.2, random_state=1)"
   ]
  },
  {
   "cell_type": "code",
   "execution_count": 65,
   "metadata": {},
   "outputs": [],
   "source": [
    "for i in range(0,4):\n",
    "    X_train_temp = X_train\n",
    "    y_train_temp = y_train\n",
    "    drop_long_los = y_train_temp.index[(y_train_temp['total_los'] <= lst_range[i][0]) | (y_train_temp['total_los'] > lst_range[i][1])].tolist()\n",
    "    temp_working_patient_data = X_train_temp.drop(drop_long_los)\n",
    "    temp_total_los_data = y_train_temp.drop(drop_long_los)\n",
    "    temp_working_patient_data = temp_working_patient_data.reset_index(drop=True)\n",
    "    temp_total_los_data = temp_total_los_data.reset_index(drop=True)\n",
    "    drop_list = []\n",
    "    for j in range(0,X_train.shape[1]):\n",
    "        if temp_working_patient_data.iloc[:,j].isnull().sum() / X_train.shape[0] > 0.99:\n",
    "            drop_list.append(temp_working_patient_data.columns[j])\n",
    "    temp_working_patient_data.drop(drop_list,axis=1,inplace=True)\n",
    "    list_sub_data.append(temp_working_patient_data)\n",
    "    list_los_data.append(np.array(temp_total_los_data['total_los']))\n",
    "\n"
   ]
  },
  {
   "cell_type": "code",
   "execution_count": 66,
   "metadata": {},
   "outputs": [
    {
     "name": "stdout",
     "output_type": "stream",
     "text": [
      "[LibSVM][LibSVM][LibSVM][LibSVM]"
     ]
    }
   ],
   "source": [
    "for i in range(0,4):\n",
    "    #fill in Nan with 0\n",
    "    missingvalues = SimpleImputer(missing_values = np.nan, strategy = \"constant\",fill_value=0)\n",
    "    missingvalues = missingvalues.fit(list_sub_data[i])\n",
    "    list_sub_data[i] = missingvalues.transform(list_sub_data[i])\n",
    "    # scale data with min-max scale\n",
    "#     mm_scaler = MinMaxScaler()\n",
    "#     list_sub_data[i] = mm_scaler.fit_transform(list_sub_data[i])\n",
    "    #training sub model\n",
    "    \n",
    "#     model = xgboost.XGBRegressor(colsample_bytree=0.8,\n",
    "#                  gamma=0.4,                 \n",
    "#                  learning_rate=0.05,\n",
    "#                  max_depth=8,\n",
    "#                  min_child_weight=1.5,\n",
    "#                  n_estimators=300,                                                                 \n",
    "#                  reg_alpha=0.8,\n",
    "#                  subsample=0.4,\n",
    "#                  early_stopping_rounds=10)\n",
    "    \n",
    "    model = SVR(kernel='rbf', verbose=True)\n",
    "    model.fit(list_sub_data[i], list_los_data[i])\n",
    "    dump(model, open(str('model_'+str(i)+'.pkl'), 'wb'))"
   ]
  },
  {
   "cell_type": "code",
   "execution_count": 67,
   "metadata": {},
   "outputs": [],
   "source": [
    "missingvalues = SimpleImputer(missing_values = np.nan, strategy = \"constant\",fill_value=0)\n",
    "missingvalues = missingvalues.fit(X_test)\n",
    "X_test = missingvalues.transform(X_test)\n",
    "\n",
    "y_test = np.array(y_test['total_los'])"
   ]
  },
  {
   "cell_type": "code",
   "execution_count": 69,
   "metadata": {},
   "outputs": [
    {
     "name": "stdout",
     "output_type": "stream",
     "text": [
      "SVR(verbose=True)\n",
      "SVR(verbose=True)\n",
      "SVR(verbose=True)\n",
      "SVR(verbose=True)\n"
     ]
    }
   ],
   "source": [
    "for i in range(0,4):\n",
    "    model = load(open(str('model_'+str(i)+'.pkl'), 'rb'))\n",
    "    print(model)\n",
    "    list_sub_model.append(model)"
   ]
  },
  {
   "cell_type": "code",
   "execution_count": 70,
   "metadata": {},
   "outputs": [],
   "source": [
    "for i in range(0,4):\n",
    "    testing_los = mean_absolute_error(y_test, list_sub_model[i].predict(X_test))\n",
    "    list_test_error.append(testing_los)"
   ]
  },
  {
   "cell_type": "code",
   "execution_count": 71,
   "metadata": {},
   "outputs": [
    {
     "data": {
      "text/plain": [
       "[6.364971056862539, 8.520330397561441, 27.022404517882766, 59.10399751316387]"
      ]
     },
     "execution_count": 71,
     "metadata": {},
     "output_type": "execute_result"
    }
   ],
   "source": [
    "list_test_error"
   ]
  },
  {
   "cell_type": "code",
   "execution_count": 58,
   "metadata": {},
   "outputs": [],
   "source": [
    "# list_test_error = []\n",
    "# for i in range (0,X_test.shape[0]):\n",
    "#     test_error = []\n",
    "#     for j in range(0,9):\n",
    "#         temp_y_test = y_test[i].reshape(-1,1)\n",
    "#         temp_X_test = X_test[i].reshape(-1,88)\n",
    "# #         print(temp_X_test.shape)\n",
    "# #         print(temp_y_test.shape)\n",
    "#         testing_los = mean_absolute_error(temp_y_test, list_sub_model[j].predict(temp_X_test))\n",
    "# #         print(testing_los)\n",
    "#         test_error.append(testing_los)\n",
    "# #     print(min_test_error_sub_model) \n",
    "#     list_test_error.append(statistics.mean(test_error))\n"
   ]
  },
  {
   "cell_type": "code",
   "execution_count": 59,
   "metadata": {},
   "outputs": [
    {
     "name": "stdout",
     "output_type": "stream",
     "text": [
      "35.850931866526444\n"
     ]
    }
   ],
   "source": [
    "print(statistics.mean(list_test_error))"
   ]
  },
  {
   "cell_type": "code",
   "execution_count": 60,
   "metadata": {},
   "outputs": [
    {
     "name": "stdout",
     "output_type": "stream",
     "text": [
      "59.49259487676768\n",
      "53.41819642917663\n",
      "43.26567597569218\n",
      "34.29955827614243\n",
      "23.91307492575048\n",
      "13.497151156634558\n",
      "3.10627350059346\n",
      "8.799716670774373\n",
      "18.62850426130983\n"
     ]
    }
   ],
   "source": [
    "for j in range(0,9):\n",
    "        temp_y_test = y_test[2].reshape(-1,1)\n",
    "        temp_X_test = X_test[2].reshape(-1,88)\n",
    "#         print(temp_X_test.shape)\n",
    "#         print(temp_y_test.shape)\n",
    "        testing_los = mean_absolute_error(temp_y_test, list_sub_model[j].predict(temp_X_test))\n",
    "        print(testing_los)\n",
    "#         if testing_los < min_test_error_sub_model:\n",
    "#             min_test_error_sub_model = testing_los"
   ]
  },
  {
   "cell_type": "code",
   "execution_count": 34,
   "metadata": {},
   "outputs": [
    {
     "data": {
      "text/plain": [
       "66.8583"
      ]
     },
     "execution_count": 34,
     "metadata": {},
     "output_type": "execute_result"
    }
   ],
   "source": [
    "y_test[2]"
   ]
  },
  {
   "cell_type": "code",
   "execution_count": 374,
   "metadata": {},
   "outputs": [
    {
     "data": {
      "text/plain": [
       "6088"
      ]
     },
     "execution_count": 374,
     "metadata": {},
     "output_type": "execute_result"
    }
   ],
   "source": [
    "len(list_test_error)"
   ]
  },
  {
   "cell_type": "code",
   "execution_count": null,
   "metadata": {},
   "outputs": [],
   "source": []
  }
 ],
 "metadata": {
  "kernelspec": {
   "display_name": "Python 3",
   "language": "python",
   "name": "python3"
  },
  "language_info": {
   "codemirror_mode": {
    "name": "ipython",
    "version": 3
   },
   "file_extension": ".py",
   "mimetype": "text/x-python",
   "name": "python",
   "nbconvert_exporter": "python",
   "pygments_lexer": "ipython3",
   "version": "3.7.6"
  }
 },
 "nbformat": 4,
 "nbformat_minor": 4
}
