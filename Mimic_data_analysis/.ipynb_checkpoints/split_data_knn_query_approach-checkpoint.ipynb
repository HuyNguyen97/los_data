{
 "cells": [
  {
   "cell_type": "code",
   "execution_count": 205,
   "metadata": {},
   "outputs": [],
   "source": [
    "import numpy as np\n",
    "import pandas as pd\n",
    "import scipy.stats as ss\n",
    "import matplotlib.pyplot as plt\n",
    "import IPython.display as idis\n",
    "import seaborn as sns\n",
    "import copy\n",
    "import scipy.stats as stat\n",
    "import functools \n",
    "%matplotlib inline\n",
    "pd.options.display.max_rows = 999\n",
    "pd.options.display.max_columns = 300\n",
    "import functools\n",
    "\n",
    "from sklearn.svm import SVR\n",
    "from sklearn.metrics import mean_absolute_error \n",
    "from sklearn.model_selection import train_test_split\n",
    "from sklearn.preprocessing import MinMaxScaler\n",
    "from sklearn.impute import SimpleImputer\n",
    "import xgboost\n",
    "np.random.seed(1)"
   ]
  },
  {
   "cell_type": "code",
   "execution_count": 206,
   "metadata": {},
   "outputs": [
    {
     "data": {
      "text/plain": [
       "[(0, 5),\n",
       " (5, 10),\n",
       " (10, 15),\n",
       " (15, 20),\n",
       " (20, 25),\n",
       " (25, 30),\n",
       " (30, 35),\n",
       " (35, 40),\n",
       " (40, 45),\n",
       " (45, 50),\n",
       " (50, 55),\n",
       " (55, 60),\n",
       " (60, 65),\n",
       " (65, 70),\n",
       " (70, 75),\n",
       " (75, 80),\n",
       " (80, 85),\n",
       " (85, 90)]"
      ]
     },
     "execution_count": 206,
     "metadata": {},
     "output_type": "execute_result"
    }
   ],
   "source": [
    "lst_range = [(i,i+5) for i in [j for j in range(0,90,5)]]\n",
    "lst_range"
   ]
  },
  {
   "cell_type": "code",
   "execution_count": 207,
   "metadata": {},
   "outputs": [],
   "source": [
    "list_sub_data = []\n",
    "list_los_data = []\n"
   ]
  },
  {
   "cell_type": "code",
   "execution_count": 208,
   "metadata": {},
   "outputs": [],
   "source": [
    "working_patient = pd.read_csv('first_vital_patient_data.csv')  \n",
    "total_los_patient = pd.read_csv('total_los_patients.csv')\n",
    "# print(total_los_patient)\n",
    "drop_long_los = total_los_patient.index[total_los_patient['total_los'] > 90].tolist()\n",
    "working_patient_data = working_patient.drop(drop_long_los)\n",
    "total_los_patient_data = total_los_patient.drop(drop_long_los)\n",
    "working_patient_data = working_patient_data.reset_index(drop=True)\n",
    "total_los_patient_data = total_los_patient_data.reset_index(drop=True)\n",
    "# print(len(total_los_patient_data))\n",
    "total_los_np = np.array(total_los_patient_data)\n",
    "# print(len(total_los))\n",
    "\n",
    "drop_list = []\n",
    "for j in range(0,working_patient_data.shape[1]):\n",
    "    if working_patient_data.iloc[:,j].isnull().sum() / (working_patient_data.shape[0] - len(drop_long_los)) > 0.99:\n",
    "        drop_list.append(working_patient_data.columns[j])\n",
    "working_patient_data.drop(drop_list,axis=1,inplace=True)\n",
    "\n",
    "\n",
    "X_train, X_test, y_train, y_test = train_test_split(working_patient_data, total_los_patient_data, test_size=0.1, random_state=1)"
   ]
  },
  {
   "cell_type": "code",
   "execution_count": 209,
   "metadata": {},
   "outputs": [],
   "source": [
    "for i in range(0,18):\n",
    "    X_train_temp = X_train\n",
    "    y_train_temp = y_train\n",
    "    drop_long_los = y_train_temp.index[(y_train_temp['total_los'] <= lst_range[i][0]) | (y_train_temp['total_los'] > lst_range[i][1])].tolist()\n",
    "    temp_working_patient_data = X_train_temp.drop(drop_long_los)\n",
    "    temp_total_los_data = y_train_temp.drop(drop_long_los)\n",
    "    temp_working_patient_data = temp_working_patient_data.reset_index(drop=True)\n",
    "    temp_total_los_data = temp_total_los_data.reset_index(drop=True)\n",
    "    drop_list = []\n",
    "    for j in range(0,X_train.shape[1]):\n",
    "        if temp_working_patient_data.iloc[:,j].isnull().sum() / X_train.shape[0] > 0.99:\n",
    "            drop_list.append(temp_working_patient_data.columns[j])\n",
    "    temp_working_patient_data.drop(drop_list,axis=1,inplace=True)\n",
    "    list_sub_data.append(temp_working_patient_data)\n",
    "    list_los_data.append(np.array(temp_total_los_data['total_los']))\n",
    "\n"
   ]
  },
  {
   "cell_type": "code",
   "execution_count": null,
   "metadata": {},
   "outputs": [],
   "source": []
  }
 ],
 "metadata": {
  "kernelspec": {
   "display_name": "Python 3",
   "language": "python",
   "name": "python3"
  },
  "language_info": {
   "codemirror_mode": {
    "name": "ipython",
    "version": 3
   },
   "file_extension": ".py",
   "mimetype": "text/x-python",
   "name": "python",
   "nbconvert_exporter": "python",
   "pygments_lexer": "ipython3",
   "version": "3.7.6"
  }
 },
 "nbformat": 4,
 "nbformat_minor": 4
}
